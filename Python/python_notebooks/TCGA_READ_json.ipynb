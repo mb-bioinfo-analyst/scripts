{
 "cells": [
  {
   "cell_type": "code",
   "execution_count": 1,
   "metadata": {},
   "outputs": [],
   "source": [
    "import json\n",
    "import pandas as pd\n",
    "import numpy as np\n",
    "import matplotlib.pyplot as plt\n",
    "#from ggplot import *\n",
    "from scipy.stats import *\n"
   ]
  },
  {
   "cell_type": "code",
   "execution_count": 3,
   "metadata": {},
   "outputs": [],
   "source": [
    "#data = pd.read_json(\"\")"
   ]
  },
  {
   "cell_type": "code",
   "execution_count": 2,
   "metadata": {},
   "outputs": [],
   "source": [
    "with open('F:\\\\TCGA_Data\\\\TCGA\\\\TCGA_AllData\\\\TCGA_READ\\\\metadata.cart.2019-06-24.json') as data_file:    \n",
    "    data = json.load(data_file)"
   ]
  },
  {
   "cell_type": "code",
   "execution_count": 3,
   "metadata": {},
   "outputs": [
    {
     "name": "stdout",
     "output_type": "stream",
     "text": [
      "342\n"
     ]
    }
   ],
   "source": [
    "\n",
    "print(len(data))"
   ]
  },
  {
   "cell_type": "code",
   "execution_count": 4,
   "metadata": {},
   "outputs": [
    {
     "data": {
      "text/plain": [
       "[{'entity_id': '27b8775c-5f1f-407c-8db8-674dc301307a',\n",
       "  'case_id': 'bcb21cdd-2f57-4df0-bbbe-a74fa5a654d6',\n",
       "  'entity_submitter_id': 'TCGA-EI-6506-01A-11R-1736-07',\n",
       "  'entity_type': 'aliquot'}]"
      ]
     },
     "execution_count": 4,
     "metadata": {},
     "output_type": "execute_result"
    }
   ],
   "source": [
    "data[0][\"associated_entities\"]"
   ]
  },
  {
   "cell_type": "code",
   "execution_count": 5,
   "metadata": {},
   "outputs": [
    {
     "data": {
      "text/plain": [
       "'TCGA-EI-6506-01A-11R-1736-07'"
      ]
     },
     "execution_count": 5,
     "metadata": {},
     "output_type": "execute_result"
    }
   ],
   "source": [
    "data[0][\"associated_entities\"][0][\"entity_submitter_id\"]\n"
   ]
  },
  {
   "cell_type": "code",
   "execution_count": 6,
   "metadata": {},
   "outputs": [
    {
     "data": {
      "text/plain": [
       "1"
      ]
     },
     "execution_count": 6,
     "metadata": {},
     "output_type": "execute_result"
    }
   ],
   "source": [
    "len(data[0][\"associated_entities\"])"
   ]
  },
  {
   "cell_type": "code",
   "execution_count": 8,
   "metadata": {},
   "outputs": [
    {
     "data": {
      "text/plain": [
       "165"
      ]
     },
     "execution_count": 8,
     "metadata": {},
     "output_type": "execute_result"
    }
   ],
   "source": [
    "\n",
    "\n",
    "miRNA_data_frame = pd.DataFrame()\n",
    "for i in range(0, len(data)):\n",
    "    if len(data[i][\"associated_entities\"]) > 1:\n",
    "        continue\n",
    "    if data[i][\"data_type\"] == \"miRNA Expression Quantification\":\n",
    "    #if data[i][\"data_type\"] == \"Gene Expression Quantification\":\n",
    "        file_path = \"F:\\\\TCGA_Data\\\\TCGA\\\\TCGA_AllData\\\\TCGA_READ\\\\\" +  data[i][\"file_id\"] + \"\\\\\" + data[i][\"file_name\"]\n",
    "        mirNAData = pd.read_csv(file_path, sep=\"\\t\")\n",
    "        mirNAData.index = mirNAData[\"miRNA_ID\"]\n",
    "        miRNA_data_frame[data[i][\"associated_entities\"][0][\"entity_submitter_id\"]] = mirNAData[\"read_count\"]\n",
    "        #break\n",
    "len(miRNA_data_frame)\n",
    "len(miRNA_data_frame.columns)\n",
    "#print(data[i][\"cases\"][0][\"case_id\"] + \"\\t\" + data[i][\"file_id\"] + \"\\t\" + data[i][\"data_type\"] + \"\\t\" + data[i][\"file_name\"] )\n",
    "\n"
   ]
  },
  {
   "cell_type": "code",
   "execution_count": 9,
   "metadata": {},
   "outputs": [
    {
     "data": {
      "text/html": [
       "<div>\n",
       "<style scoped>\n",
       "    .dataframe tbody tr th:only-of-type {\n",
       "        vertical-align: middle;\n",
       "    }\n",
       "\n",
       "    .dataframe tbody tr th {\n",
       "        vertical-align: top;\n",
       "    }\n",
       "\n",
       "    .dataframe thead th {\n",
       "        text-align: right;\n",
       "    }\n",
       "</style>\n",
       "<table border=\"1\" class=\"dataframe\">\n",
       "  <thead>\n",
       "    <tr style=\"text-align: right;\">\n",
       "      <th></th>\n",
       "      <th>TCGA-DY-A1DF-01A-11H-A154-13</th>\n",
       "      <th>TCGA-DC-6158-01A-11H-1659-13</th>\n",
       "      <th>TCGA-F5-6864-01A-11H-1927-13</th>\n",
       "      <th>TCGA-AG-A01W-01A-21R-A082-13</th>\n",
       "      <th>TCGA-EI-6513-01A-21H-1735-13</th>\n",
       "      <th>TCGA-AF-2691-01A-01T-0822-13</th>\n",
       "      <th>TCGA-EI-7002-01A-11H-1927-13</th>\n",
       "      <th>TCGA-AG-4001-01A-02T-1120-13</th>\n",
       "      <th>TCGA-AG-3593-01A-01T-0822-13</th>\n",
       "      <th>TCGA-DC-6154-01A-31H-1927-13</th>\n",
       "      <th>...</th>\n",
       "      <th>TCGA-AG-3898-01A-01T-1120-13</th>\n",
       "      <th>TCGA-EI-6508-01A-11H-1735-13</th>\n",
       "      <th>TCGA-AG-A015-01A-21R-A076-13</th>\n",
       "      <th>TCGA-EI-7004-01A-11H-1927-13</th>\n",
       "      <th>TCGA-EI-6514-01A-11H-1735-13</th>\n",
       "      <th>TCGA-AG-3575-01A-01T-0822-13</th>\n",
       "      <th>TCGA-AG-3883-01A-02T-0906-13</th>\n",
       "      <th>TCGA-CI-6619-01B-11H-1829-13</th>\n",
       "      <th>TCGA-G5-6235-01A-11H-1735-13</th>\n",
       "      <th>TCGA-DC-6155-01A-11H-1659-13</th>\n",
       "    </tr>\n",
       "    <tr>\n",
       "      <th>miRNA_ID</th>\n",
       "      <th></th>\n",
       "      <th></th>\n",
       "      <th></th>\n",
       "      <th></th>\n",
       "      <th></th>\n",
       "      <th></th>\n",
       "      <th></th>\n",
       "      <th></th>\n",
       "      <th></th>\n",
       "      <th></th>\n",
       "      <th></th>\n",
       "      <th></th>\n",
       "      <th></th>\n",
       "      <th></th>\n",
       "      <th></th>\n",
       "      <th></th>\n",
       "      <th></th>\n",
       "      <th></th>\n",
       "      <th></th>\n",
       "      <th></th>\n",
       "      <th></th>\n",
       "    </tr>\n",
       "  </thead>\n",
       "  <tbody>\n",
       "    <tr>\n",
       "      <th>hsa-let-7a-1</th>\n",
       "      <td>64612</td>\n",
       "      <td>57295</td>\n",
       "      <td>108719</td>\n",
       "      <td>6073</td>\n",
       "      <td>70233</td>\n",
       "      <td>6875</td>\n",
       "      <td>23270</td>\n",
       "      <td>7257</td>\n",
       "      <td>8496</td>\n",
       "      <td>31338</td>\n",
       "      <td>...</td>\n",
       "      <td>7337</td>\n",
       "      <td>62215</td>\n",
       "      <td>8324</td>\n",
       "      <td>124243</td>\n",
       "      <td>114458</td>\n",
       "      <td>15838</td>\n",
       "      <td>3107</td>\n",
       "      <td>56308</td>\n",
       "      <td>34582</td>\n",
       "      <td>13401</td>\n",
       "    </tr>\n",
       "    <tr>\n",
       "      <th>hsa-let-7a-2</th>\n",
       "      <td>64965</td>\n",
       "      <td>57764</td>\n",
       "      <td>108338</td>\n",
       "      <td>6129</td>\n",
       "      <td>69545</td>\n",
       "      <td>6708</td>\n",
       "      <td>23430</td>\n",
       "      <td>7192</td>\n",
       "      <td>8402</td>\n",
       "      <td>31151</td>\n",
       "      <td>...</td>\n",
       "      <td>7110</td>\n",
       "      <td>61869</td>\n",
       "      <td>8503</td>\n",
       "      <td>123929</td>\n",
       "      <td>114181</td>\n",
       "      <td>15828</td>\n",
       "      <td>3183</td>\n",
       "      <td>55660</td>\n",
       "      <td>34216</td>\n",
       "      <td>13209</td>\n",
       "    </tr>\n",
       "    <tr>\n",
       "      <th>hsa-let-7a-3</th>\n",
       "      <td>65170</td>\n",
       "      <td>57461</td>\n",
       "      <td>109343</td>\n",
       "      <td>6135</td>\n",
       "      <td>70178</td>\n",
       "      <td>6901</td>\n",
       "      <td>23699</td>\n",
       "      <td>7236</td>\n",
       "      <td>8531</td>\n",
       "      <td>31510</td>\n",
       "      <td>...</td>\n",
       "      <td>7248</td>\n",
       "      <td>62447</td>\n",
       "      <td>8517</td>\n",
       "      <td>123286</td>\n",
       "      <td>114012</td>\n",
       "      <td>15982</td>\n",
       "      <td>3252</td>\n",
       "      <td>56222</td>\n",
       "      <td>34173</td>\n",
       "      <td>13359</td>\n",
       "    </tr>\n",
       "    <tr>\n",
       "      <th>hsa-let-7b</th>\n",
       "      <td>33725</td>\n",
       "      <td>87270</td>\n",
       "      <td>74641</td>\n",
       "      <td>10514</td>\n",
       "      <td>39387</td>\n",
       "      <td>29972</td>\n",
       "      <td>22080</td>\n",
       "      <td>14085</td>\n",
       "      <td>17244</td>\n",
       "      <td>43524</td>\n",
       "      <td>...</td>\n",
       "      <td>19950</td>\n",
       "      <td>39074</td>\n",
       "      <td>25723</td>\n",
       "      <td>151411</td>\n",
       "      <td>57186</td>\n",
       "      <td>52460</td>\n",
       "      <td>12289</td>\n",
       "      <td>28844</td>\n",
       "      <td>31220</td>\n",
       "      <td>23327</td>\n",
       "    </tr>\n",
       "    <tr>\n",
       "      <th>hsa-let-7c</th>\n",
       "      <td>4806</td>\n",
       "      <td>8527</td>\n",
       "      <td>9004</td>\n",
       "      <td>177</td>\n",
       "      <td>1178</td>\n",
       "      <td>1026</td>\n",
       "      <td>3588</td>\n",
       "      <td>1423</td>\n",
       "      <td>191</td>\n",
       "      <td>2064</td>\n",
       "      <td>...</td>\n",
       "      <td>991</td>\n",
       "      <td>3434</td>\n",
       "      <td>1742</td>\n",
       "      <td>11583</td>\n",
       "      <td>11960</td>\n",
       "      <td>1020</td>\n",
       "      <td>248</td>\n",
       "      <td>884</td>\n",
       "      <td>1261</td>\n",
       "      <td>398</td>\n",
       "    </tr>\n",
       "  </tbody>\n",
       "</table>\n",
       "<p>5 rows × 165 columns</p>\n",
       "</div>"
      ],
      "text/plain": [
       "              TCGA-DY-A1DF-01A-11H-A154-13  TCGA-DC-6158-01A-11H-1659-13  \\\n",
       "miRNA_ID                                                                   \n",
       "hsa-let-7a-1                         64612                         57295   \n",
       "hsa-let-7a-2                         64965                         57764   \n",
       "hsa-let-7a-3                         65170                         57461   \n",
       "hsa-let-7b                           33725                         87270   \n",
       "hsa-let-7c                            4806                          8527   \n",
       "\n",
       "              TCGA-F5-6864-01A-11H-1927-13  TCGA-AG-A01W-01A-21R-A082-13  \\\n",
       "miRNA_ID                                                                   \n",
       "hsa-let-7a-1                        108719                          6073   \n",
       "hsa-let-7a-2                        108338                          6129   \n",
       "hsa-let-7a-3                        109343                          6135   \n",
       "hsa-let-7b                           74641                         10514   \n",
       "hsa-let-7c                            9004                           177   \n",
       "\n",
       "              TCGA-EI-6513-01A-21H-1735-13  TCGA-AF-2691-01A-01T-0822-13  \\\n",
       "miRNA_ID                                                                   \n",
       "hsa-let-7a-1                         70233                          6875   \n",
       "hsa-let-7a-2                         69545                          6708   \n",
       "hsa-let-7a-3                         70178                          6901   \n",
       "hsa-let-7b                           39387                         29972   \n",
       "hsa-let-7c                            1178                          1026   \n",
       "\n",
       "              TCGA-EI-7002-01A-11H-1927-13  TCGA-AG-4001-01A-02T-1120-13  \\\n",
       "miRNA_ID                                                                   \n",
       "hsa-let-7a-1                         23270                          7257   \n",
       "hsa-let-7a-2                         23430                          7192   \n",
       "hsa-let-7a-3                         23699                          7236   \n",
       "hsa-let-7b                           22080                         14085   \n",
       "hsa-let-7c                            3588                          1423   \n",
       "\n",
       "              TCGA-AG-3593-01A-01T-0822-13  TCGA-DC-6154-01A-31H-1927-13  \\\n",
       "miRNA_ID                                                                   \n",
       "hsa-let-7a-1                          8496                         31338   \n",
       "hsa-let-7a-2                          8402                         31151   \n",
       "hsa-let-7a-3                          8531                         31510   \n",
       "hsa-let-7b                           17244                         43524   \n",
       "hsa-let-7c                             191                          2064   \n",
       "\n",
       "                          ...               TCGA-AG-3898-01A-01T-1120-13  \\\n",
       "miRNA_ID                  ...                                              \n",
       "hsa-let-7a-1              ...                                       7337   \n",
       "hsa-let-7a-2              ...                                       7110   \n",
       "hsa-let-7a-3              ...                                       7248   \n",
       "hsa-let-7b                ...                                      19950   \n",
       "hsa-let-7c                ...                                        991   \n",
       "\n",
       "              TCGA-EI-6508-01A-11H-1735-13  TCGA-AG-A015-01A-21R-A076-13  \\\n",
       "miRNA_ID                                                                   \n",
       "hsa-let-7a-1                         62215                          8324   \n",
       "hsa-let-7a-2                         61869                          8503   \n",
       "hsa-let-7a-3                         62447                          8517   \n",
       "hsa-let-7b                           39074                         25723   \n",
       "hsa-let-7c                            3434                          1742   \n",
       "\n",
       "              TCGA-EI-7004-01A-11H-1927-13  TCGA-EI-6514-01A-11H-1735-13  \\\n",
       "miRNA_ID                                                                   \n",
       "hsa-let-7a-1                        124243                        114458   \n",
       "hsa-let-7a-2                        123929                        114181   \n",
       "hsa-let-7a-3                        123286                        114012   \n",
       "hsa-let-7b                          151411                         57186   \n",
       "hsa-let-7c                           11583                         11960   \n",
       "\n",
       "              TCGA-AG-3575-01A-01T-0822-13  TCGA-AG-3883-01A-02T-0906-13  \\\n",
       "miRNA_ID                                                                   \n",
       "hsa-let-7a-1                         15838                          3107   \n",
       "hsa-let-7a-2                         15828                          3183   \n",
       "hsa-let-7a-3                         15982                          3252   \n",
       "hsa-let-7b                           52460                         12289   \n",
       "hsa-let-7c                            1020                           248   \n",
       "\n",
       "              TCGA-CI-6619-01B-11H-1829-13  TCGA-G5-6235-01A-11H-1735-13  \\\n",
       "miRNA_ID                                                                   \n",
       "hsa-let-7a-1                         56308                         34582   \n",
       "hsa-let-7a-2                         55660                         34216   \n",
       "hsa-let-7a-3                         56222                         34173   \n",
       "hsa-let-7b                           28844                         31220   \n",
       "hsa-let-7c                             884                          1261   \n",
       "\n",
       "              TCGA-DC-6155-01A-11H-1659-13  \n",
       "miRNA_ID                                    \n",
       "hsa-let-7a-1                         13401  \n",
       "hsa-let-7a-2                         13209  \n",
       "hsa-let-7a-3                         13359  \n",
       "hsa-let-7b                           23327  \n",
       "hsa-let-7c                             398  \n",
       "\n",
       "[5 rows x 165 columns]"
      ]
     },
     "execution_count": 9,
     "metadata": {},
     "output_type": "execute_result"
    }
   ],
   "source": [
    "miRNA_data_frame.head()"
   ]
  },
  {
   "cell_type": "code",
   "execution_count": 10,
   "metadata": {},
   "outputs": [],
   "source": [
    "miRNA_data_frame.to_csv(\"F:\\\\TCGA_Data\\\\TCGA\\\\TCGA_AllData\\\\TCGA_READ\\\\TCGAREADmiRNA_ExpData.txt\", sep=\"\\t\")"
   ]
  },
  {
   "cell_type": "code",
   "execution_count": null,
   "metadata": {},
   "outputs": [],
   "source": []
  },
  {
   "cell_type": "code",
   "execution_count": null,
   "metadata": {
    "collapsed": true
   },
   "outputs": [],
   "source": []
  },
  {
   "cell_type": "code",
   "execution_count": 12,
   "metadata": {},
   "outputs": [],
   "source": [
    "with open('F:\\\\TCGA_Data\\\\TCGA\\\\TCGA_AllData\\\\TCGA_READ\\\\metadata.cart.2019-06-24.json') as data_filemrna:    \n",
    "    datamRNA = json.load(data_filemrna)"
   ]
  },
  {
   "cell_type": "code",
   "execution_count": 13,
   "metadata": {},
   "outputs": [
    {
     "name": "stdout",
     "output_type": "stream",
     "text": [
      "342\n"
     ]
    }
   ],
   "source": [
    "print(len(datamRNA))"
   ]
  },
  {
   "cell_type": "code",
   "execution_count": 14,
   "metadata": {},
   "outputs": [
    {
     "data": {
      "text/plain": [
       "[{'entity_id': '27b8775c-5f1f-407c-8db8-674dc301307a',\n",
       "  'case_id': 'bcb21cdd-2f57-4df0-bbbe-a74fa5a654d6',\n",
       "  'entity_submitter_id': 'TCGA-EI-6506-01A-11R-1736-07',\n",
       "  'entity_type': 'aliquot'}]"
      ]
     },
     "execution_count": 14,
     "metadata": {},
     "output_type": "execute_result"
    }
   ],
   "source": [
    "datamRNA[0][\"associated_entities\"]"
   ]
  },
  {
   "cell_type": "code",
   "execution_count": 15,
   "metadata": {},
   "outputs": [
    {
     "data": {
      "text/plain": [
       "'TCGA-EI-6506-01A-11R-1736-07'"
      ]
     },
     "execution_count": 15,
     "metadata": {},
     "output_type": "execute_result"
    }
   ],
   "source": [
    "datamRNA[0][\"associated_entities\"][0][\"entity_submitter_id\"]"
   ]
  },
  {
   "cell_type": "code",
   "execution_count": 16,
   "metadata": {},
   "outputs": [
    {
     "data": {
      "text/plain": [
       "1"
      ]
     },
     "execution_count": 16,
     "metadata": {},
     "output_type": "execute_result"
    }
   ],
   "source": [
    "len(datamRNA[0][\"associated_entities\"])"
   ]
  },
  {
   "cell_type": "code",
   "execution_count": 17,
   "metadata": {},
   "outputs": [
    {
     "data": {
      "text/plain": [
       "'ee5b784f-05fc-4f74-9b0d-54ef6309d82a.mirbase21.mirnas.quantification.txt'"
      ]
     },
     "execution_count": 17,
     "metadata": {},
     "output_type": "execute_result"
    }
   ],
   "source": [
    "datamRNA[i][\"file_name\"]"
   ]
  },
  {
   "cell_type": "code",
   "execution_count": 18,
   "metadata": {},
   "outputs": [
    {
     "data": {
      "text/plain": [
       "'daff1045-941b-437d-adcd-b67bf9cbf4e6'"
      ]
     },
     "execution_count": 18,
     "metadata": {},
     "output_type": "execute_result"
    }
   ],
   "source": [
    "datamRNA[i][\"file_id\"]"
   ]
  },
  {
   "cell_type": "code",
   "execution_count": null,
   "metadata": {},
   "outputs": [],
   "source": []
  },
  {
   "cell_type": "code",
   "execution_count": 19,
   "metadata": {},
   "outputs": [
    {
     "data": {
      "text/plain": [
       "177"
      ]
     },
     "execution_count": 19,
     "metadata": {},
     "output_type": "execute_result"
    }
   ],
   "source": [
    "gene_expression_data_frame = pd.DataFrame()\n",
    "for i in range(0, len(datamRNA)):\n",
    "    if len(datamRNA[i][\"associated_entities\"]) > 1:\n",
    "        continue\n",
    "    if datamRNA[i][\"data_type\"] == \"Gene Expression Quantification\":\n",
    "        if datamRNA[i][\"file_name\"].endswith(\".htseq.counts.gz\") == False:\n",
    "            continue\n",
    "        file_path = \"F:\\\\TCGA_Data\\\\TCGA\\\\TCGA_AllData\\\\TCGA_READ\\\\\" +  datamRNA[i][\"file_id\"] + \"/\" + datamRNA[i][\"file_name\"]\n",
    "        countData = pd.read_csv(file_path, sep=\"\\t\", header=None)\n",
    "        countData.index = countData[0]\n",
    "        gene_expression_data_frame[datamRNA[i][\"associated_entities\"][0][\"entity_submitter_id\"]] = countData[1]\n",
    "\n",
    "len(gene_expression_data_frame)\n",
    "len(gene_expression_data_frame.columns)\n",
    "\n"
   ]
  },
  {
   "cell_type": "code",
   "execution_count": 20,
   "metadata": {},
   "outputs": [
    {
     "data": {
      "text/html": [
       "<div>\n",
       "<style scoped>\n",
       "    .dataframe tbody tr th:only-of-type {\n",
       "        vertical-align: middle;\n",
       "    }\n",
       "\n",
       "    .dataframe tbody tr th {\n",
       "        vertical-align: top;\n",
       "    }\n",
       "\n",
       "    .dataframe thead th {\n",
       "        text-align: right;\n",
       "    }\n",
       "</style>\n",
       "<table border=\"1\" class=\"dataframe\">\n",
       "  <thead>\n",
       "    <tr style=\"text-align: right;\">\n",
       "      <th></th>\n",
       "      <th>TCGA-EI-6506-01A-11R-1736-07</th>\n",
       "      <th>TCGA-AG-3878-01A-02R-0905-07</th>\n",
       "      <th>TCGA-AG-3725-11A-01R-1736-07</th>\n",
       "      <th>TCGA-AG-A01W-01A-21R-A083-07</th>\n",
       "      <th>TCGA-DY-A1DD-01A-21R-A155-07</th>\n",
       "      <th>TCGA-AG-3599-01A-02R-0826-07</th>\n",
       "      <th>TCGA-AG-3893-01A-01R-1119-07</th>\n",
       "      <th>TCGA-G5-6233-01A-11R-1736-07</th>\n",
       "      <th>TCGA-AG-3578-01A-01R-0821-07</th>\n",
       "      <th>TCGA-AG-4005-01A-01R-1119-07</th>\n",
       "      <th>...</th>\n",
       "      <th>TCGA-AF-2687-01A-02R-1736-07</th>\n",
       "      <th>TCGA-EI-7004-01A-11R-1928-07</th>\n",
       "      <th>TCGA-AF-A56K-01A-32R-A39D-07</th>\n",
       "      <th>TCGA-F5-6811-01A-11R-1830-07</th>\n",
       "      <th>TCGA-AG-4007-01A-01R-1119-07</th>\n",
       "      <th>TCGA-DY-A1H8-01A-21R-A155-07</th>\n",
       "      <th>TCGA-AG-A014-01A-02R-A002-07</th>\n",
       "      <th>TCGA-AG-3601-01A-01R-0826-07</th>\n",
       "      <th>TCGA-AF-4110-01A-02R-1736-07</th>\n",
       "      <th>TCGA-EI-7002-01A-11R-1928-07</th>\n",
       "    </tr>\n",
       "    <tr>\n",
       "      <th>0</th>\n",
       "      <th></th>\n",
       "      <th></th>\n",
       "      <th></th>\n",
       "      <th></th>\n",
       "      <th></th>\n",
       "      <th></th>\n",
       "      <th></th>\n",
       "      <th></th>\n",
       "      <th></th>\n",
       "      <th></th>\n",
       "      <th></th>\n",
       "      <th></th>\n",
       "      <th></th>\n",
       "      <th></th>\n",
       "      <th></th>\n",
       "      <th></th>\n",
       "      <th></th>\n",
       "      <th></th>\n",
       "      <th></th>\n",
       "      <th></th>\n",
       "      <th></th>\n",
       "    </tr>\n",
       "  </thead>\n",
       "  <tbody>\n",
       "    <tr>\n",
       "      <th>ENSG00000000003.13</th>\n",
       "      <td>6321</td>\n",
       "      <td>1566</td>\n",
       "      <td>8413</td>\n",
       "      <td>5989</td>\n",
       "      <td>15813</td>\n",
       "      <td>2944</td>\n",
       "      <td>9645</td>\n",
       "      <td>2564</td>\n",
       "      <td>2150</td>\n",
       "      <td>1918</td>\n",
       "      <td>...</td>\n",
       "      <td>9719</td>\n",
       "      <td>1679</td>\n",
       "      <td>10800</td>\n",
       "      <td>15314</td>\n",
       "      <td>4352</td>\n",
       "      <td>4667</td>\n",
       "      <td>2334</td>\n",
       "      <td>7114</td>\n",
       "      <td>8132</td>\n",
       "      <td>10878</td>\n",
       "    </tr>\n",
       "    <tr>\n",
       "      <th>ENSG00000000005.5</th>\n",
       "      <td>13</td>\n",
       "      <td>1</td>\n",
       "      <td>53</td>\n",
       "      <td>40</td>\n",
       "      <td>4</td>\n",
       "      <td>61</td>\n",
       "      <td>75</td>\n",
       "      <td>1</td>\n",
       "      <td>0</td>\n",
       "      <td>13</td>\n",
       "      <td>...</td>\n",
       "      <td>114</td>\n",
       "      <td>2</td>\n",
       "      <td>70</td>\n",
       "      <td>579</td>\n",
       "      <td>19</td>\n",
       "      <td>4</td>\n",
       "      <td>3</td>\n",
       "      <td>10</td>\n",
       "      <td>19</td>\n",
       "      <td>304</td>\n",
       "    </tr>\n",
       "    <tr>\n",
       "      <th>ENSG00000000419.11</th>\n",
       "      <td>3731</td>\n",
       "      <td>280</td>\n",
       "      <td>2523</td>\n",
       "      <td>1911</td>\n",
       "      <td>4025</td>\n",
       "      <td>1115</td>\n",
       "      <td>1140</td>\n",
       "      <td>3367</td>\n",
       "      <td>710</td>\n",
       "      <td>926</td>\n",
       "      <td>...</td>\n",
       "      <td>4233</td>\n",
       "      <td>1315</td>\n",
       "      <td>4460</td>\n",
       "      <td>4760</td>\n",
       "      <td>1211</td>\n",
       "      <td>2201</td>\n",
       "      <td>953</td>\n",
       "      <td>2480</td>\n",
       "      <td>3862</td>\n",
       "      <td>3579</td>\n",
       "    </tr>\n",
       "    <tr>\n",
       "      <th>ENSG00000000457.12</th>\n",
       "      <td>1071</td>\n",
       "      <td>143</td>\n",
       "      <td>963</td>\n",
       "      <td>588</td>\n",
       "      <td>574</td>\n",
       "      <td>369</td>\n",
       "      <td>270</td>\n",
       "      <td>767</td>\n",
       "      <td>828</td>\n",
       "      <td>275</td>\n",
       "      <td>...</td>\n",
       "      <td>949</td>\n",
       "      <td>753</td>\n",
       "      <td>602</td>\n",
       "      <td>839</td>\n",
       "      <td>223</td>\n",
       "      <td>979</td>\n",
       "      <td>141</td>\n",
       "      <td>293</td>\n",
       "      <td>804</td>\n",
       "      <td>1993</td>\n",
       "    </tr>\n",
       "    <tr>\n",
       "      <th>ENSG00000000460.15</th>\n",
       "      <td>988</td>\n",
       "      <td>139</td>\n",
       "      <td>259</td>\n",
       "      <td>507</td>\n",
       "      <td>327</td>\n",
       "      <td>261</td>\n",
       "      <td>207</td>\n",
       "      <td>488</td>\n",
       "      <td>326</td>\n",
       "      <td>298</td>\n",
       "      <td>...</td>\n",
       "      <td>804</td>\n",
       "      <td>415</td>\n",
       "      <td>409</td>\n",
       "      <td>434</td>\n",
       "      <td>194</td>\n",
       "      <td>799</td>\n",
       "      <td>182</td>\n",
       "      <td>288</td>\n",
       "      <td>387</td>\n",
       "      <td>789</td>\n",
       "    </tr>\n",
       "  </tbody>\n",
       "</table>\n",
       "<p>5 rows × 177 columns</p>\n",
       "</div>"
      ],
      "text/plain": [
       "                    TCGA-EI-6506-01A-11R-1736-07  \\\n",
       "0                                                  \n",
       "ENSG00000000003.13                          6321   \n",
       "ENSG00000000005.5                             13   \n",
       "ENSG00000000419.11                          3731   \n",
       "ENSG00000000457.12                          1071   \n",
       "ENSG00000000460.15                           988   \n",
       "\n",
       "                    TCGA-AG-3878-01A-02R-0905-07  \\\n",
       "0                                                  \n",
       "ENSG00000000003.13                          1566   \n",
       "ENSG00000000005.5                              1   \n",
       "ENSG00000000419.11                           280   \n",
       "ENSG00000000457.12                           143   \n",
       "ENSG00000000460.15                           139   \n",
       "\n",
       "                    TCGA-AG-3725-11A-01R-1736-07  \\\n",
       "0                                                  \n",
       "ENSG00000000003.13                          8413   \n",
       "ENSG00000000005.5                             53   \n",
       "ENSG00000000419.11                          2523   \n",
       "ENSG00000000457.12                           963   \n",
       "ENSG00000000460.15                           259   \n",
       "\n",
       "                    TCGA-AG-A01W-01A-21R-A083-07  \\\n",
       "0                                                  \n",
       "ENSG00000000003.13                          5989   \n",
       "ENSG00000000005.5                             40   \n",
       "ENSG00000000419.11                          1911   \n",
       "ENSG00000000457.12                           588   \n",
       "ENSG00000000460.15                           507   \n",
       "\n",
       "                    TCGA-DY-A1DD-01A-21R-A155-07  \\\n",
       "0                                                  \n",
       "ENSG00000000003.13                         15813   \n",
       "ENSG00000000005.5                              4   \n",
       "ENSG00000000419.11                          4025   \n",
       "ENSG00000000457.12                           574   \n",
       "ENSG00000000460.15                           327   \n",
       "\n",
       "                    TCGA-AG-3599-01A-02R-0826-07  \\\n",
       "0                                                  \n",
       "ENSG00000000003.13                          2944   \n",
       "ENSG00000000005.5                             61   \n",
       "ENSG00000000419.11                          1115   \n",
       "ENSG00000000457.12                           369   \n",
       "ENSG00000000460.15                           261   \n",
       "\n",
       "                    TCGA-AG-3893-01A-01R-1119-07  \\\n",
       "0                                                  \n",
       "ENSG00000000003.13                          9645   \n",
       "ENSG00000000005.5                             75   \n",
       "ENSG00000000419.11                          1140   \n",
       "ENSG00000000457.12                           270   \n",
       "ENSG00000000460.15                           207   \n",
       "\n",
       "                    TCGA-G5-6233-01A-11R-1736-07  \\\n",
       "0                                                  \n",
       "ENSG00000000003.13                          2564   \n",
       "ENSG00000000005.5                              1   \n",
       "ENSG00000000419.11                          3367   \n",
       "ENSG00000000457.12                           767   \n",
       "ENSG00000000460.15                           488   \n",
       "\n",
       "                    TCGA-AG-3578-01A-01R-0821-07  \\\n",
       "0                                                  \n",
       "ENSG00000000003.13                          2150   \n",
       "ENSG00000000005.5                              0   \n",
       "ENSG00000000419.11                           710   \n",
       "ENSG00000000457.12                           828   \n",
       "ENSG00000000460.15                           326   \n",
       "\n",
       "                    TCGA-AG-4005-01A-01R-1119-07  \\\n",
       "0                                                  \n",
       "ENSG00000000003.13                          1918   \n",
       "ENSG00000000005.5                             13   \n",
       "ENSG00000000419.11                           926   \n",
       "ENSG00000000457.12                           275   \n",
       "ENSG00000000460.15                           298   \n",
       "\n",
       "                                ...               \\\n",
       "0                               ...                \n",
       "ENSG00000000003.13              ...                \n",
       "ENSG00000000005.5               ...                \n",
       "ENSG00000000419.11              ...                \n",
       "ENSG00000000457.12              ...                \n",
       "ENSG00000000460.15              ...                \n",
       "\n",
       "                    TCGA-AF-2687-01A-02R-1736-07  \\\n",
       "0                                                  \n",
       "ENSG00000000003.13                          9719   \n",
       "ENSG00000000005.5                            114   \n",
       "ENSG00000000419.11                          4233   \n",
       "ENSG00000000457.12                           949   \n",
       "ENSG00000000460.15                           804   \n",
       "\n",
       "                    TCGA-EI-7004-01A-11R-1928-07  \\\n",
       "0                                                  \n",
       "ENSG00000000003.13                          1679   \n",
       "ENSG00000000005.5                              2   \n",
       "ENSG00000000419.11                          1315   \n",
       "ENSG00000000457.12                           753   \n",
       "ENSG00000000460.15                           415   \n",
       "\n",
       "                    TCGA-AF-A56K-01A-32R-A39D-07  \\\n",
       "0                                                  \n",
       "ENSG00000000003.13                         10800   \n",
       "ENSG00000000005.5                             70   \n",
       "ENSG00000000419.11                          4460   \n",
       "ENSG00000000457.12                           602   \n",
       "ENSG00000000460.15                           409   \n",
       "\n",
       "                    TCGA-F5-6811-01A-11R-1830-07  \\\n",
       "0                                                  \n",
       "ENSG00000000003.13                         15314   \n",
       "ENSG00000000005.5                            579   \n",
       "ENSG00000000419.11                          4760   \n",
       "ENSG00000000457.12                           839   \n",
       "ENSG00000000460.15                           434   \n",
       "\n",
       "                    TCGA-AG-4007-01A-01R-1119-07  \\\n",
       "0                                                  \n",
       "ENSG00000000003.13                          4352   \n",
       "ENSG00000000005.5                             19   \n",
       "ENSG00000000419.11                          1211   \n",
       "ENSG00000000457.12                           223   \n",
       "ENSG00000000460.15                           194   \n",
       "\n",
       "                    TCGA-DY-A1H8-01A-21R-A155-07  \\\n",
       "0                                                  \n",
       "ENSG00000000003.13                          4667   \n",
       "ENSG00000000005.5                              4   \n",
       "ENSG00000000419.11                          2201   \n",
       "ENSG00000000457.12                           979   \n",
       "ENSG00000000460.15                           799   \n",
       "\n",
       "                    TCGA-AG-A014-01A-02R-A002-07  \\\n",
       "0                                                  \n",
       "ENSG00000000003.13                          2334   \n",
       "ENSG00000000005.5                              3   \n",
       "ENSG00000000419.11                           953   \n",
       "ENSG00000000457.12                           141   \n",
       "ENSG00000000460.15                           182   \n",
       "\n",
       "                    TCGA-AG-3601-01A-01R-0826-07  \\\n",
       "0                                                  \n",
       "ENSG00000000003.13                          7114   \n",
       "ENSG00000000005.5                             10   \n",
       "ENSG00000000419.11                          2480   \n",
       "ENSG00000000457.12                           293   \n",
       "ENSG00000000460.15                           288   \n",
       "\n",
       "                    TCGA-AF-4110-01A-02R-1736-07  TCGA-EI-7002-01A-11R-1928-07  \n",
       "0                                                                               \n",
       "ENSG00000000003.13                          8132                         10878  \n",
       "ENSG00000000005.5                             19                           304  \n",
       "ENSG00000000419.11                          3862                          3579  \n",
       "ENSG00000000457.12                           804                          1993  \n",
       "ENSG00000000460.15                           387                           789  \n",
       "\n",
       "[5 rows x 177 columns]"
      ]
     },
     "execution_count": 20,
     "metadata": {},
     "output_type": "execute_result"
    }
   ],
   "source": [
    "gene_expression_data_frame.head()"
   ]
  },
  {
   "cell_type": "code",
   "execution_count": 21,
   "metadata": {},
   "outputs": [],
   "source": [
    "gene_expression_data_frame.to_csv(\"F:\\\\TCGA_Data\\\\TCGA\\\\TCGA_AllData\\\\TCGA_READ\\\\TCGACOADmRNA_ExpData.csv\", sep=\"\\t\")"
   ]
  },
  {
   "cell_type": "code",
   "execution_count": 68,
   "metadata": {},
   "outputs": [],
   "source": [
    "ensembl_2_gene_data_frame = pd.DataFrame()\n",
    "ensembl_2_gene_data_frame = pd.read_csv(\"F:\\\\TCGA_Data\\\\TCGA\\\\TCGA_AllData\\\\TCGA_COAD\\\\mart_export.txt\", sep=\"\\t\")\n"
   ]
  },
  {
   "cell_type": "code",
   "execution_count": 69,
   "metadata": {},
   "outputs": [
    {
     "data": {
      "text/html": [
       "<div>\n",
       "<style scoped>\n",
       "    .dataframe tbody tr th:only-of-type {\n",
       "        vertical-align: middle;\n",
       "    }\n",
       "\n",
       "    .dataframe tbody tr th {\n",
       "        vertical-align: top;\n",
       "    }\n",
       "\n",
       "    .dataframe thead th {\n",
       "        text-align: right;\n",
       "    }\n",
       "</style>\n",
       "<table border=\"1\" class=\"dataframe\">\n",
       "  <thead>\n",
       "    <tr style=\"text-align: right;\">\n",
       "      <th></th>\n",
       "      <th>Gene name</th>\n",
       "      <th>Gene stable ID version</th>\n",
       "    </tr>\n",
       "  </thead>\n",
       "  <tbody>\n",
       "    <tr>\n",
       "      <th>0</th>\n",
       "      <td>MIR628</td>\n",
       "      <td>ENSG00000283891.1</td>\n",
       "    </tr>\n",
       "    <tr>\n",
       "      <th>1</th>\n",
       "      <td>RNU6-871P</td>\n",
       "      <td>ENSG00000251931.1</td>\n",
       "    </tr>\n",
       "    <tr>\n",
       "      <th>2</th>\n",
       "      <td>MIR626</td>\n",
       "      <td>ENSG00000207766.1</td>\n",
       "    </tr>\n",
       "    <tr>\n",
       "      <th>3</th>\n",
       "      <td>RPS9</td>\n",
       "      <td>ENSG00000275323.3</td>\n",
       "    </tr>\n",
       "    <tr>\n",
       "      <th>4</th>\n",
       "      <td>GHRLOS</td>\n",
       "      <td>ENSG00000276678.1</td>\n",
       "    </tr>\n",
       "  </tbody>\n",
       "</table>\n",
       "</div>"
      ],
      "text/plain": [
       "   Gene name Gene stable ID version\n",
       "0     MIR628      ENSG00000283891.1\n",
       "1  RNU6-871P      ENSG00000251931.1\n",
       "2     MIR626      ENSG00000207766.1\n",
       "3       RPS9      ENSG00000275323.3\n",
       "4     GHRLOS      ENSG00000276678.1"
      ]
     },
     "execution_count": 69,
     "metadata": {},
     "output_type": "execute_result"
    }
   ],
   "source": [
    "ensembl_2_gene_data_frame.head()"
   ]
  },
  {
   "cell_type": "code",
   "execution_count": 70,
   "metadata": {},
   "outputs": [],
   "source": [
    "fpkm_samples = gene_expression_data_frame..tolist()\n",
    "mrna_samples = ensembl_2_gene_data_frame.columns.tolist()"
   ]
  },
  {
   "cell_type": "code",
   "execution_count": 76,
   "metadata": {},
   "outputs": [],
   "source": [
    "common_samples = list(set.intersection(set(gene_expression_data_frame), set(ensembl_2_gene_data_frame)))\n",
    "gene_expression_data_frame_comm = gene_expression_data_frame[common_samples]\n",
    "EnsRNA_data_frame_comm = gene_expression_data_frame[common_samples]"
   ]
  },
  {
   "cell_type": "code",
   "execution_count": null,
   "metadata": {},
   "outputs": [],
   "source": []
  },
  {
   "cell_type": "code",
   "execution_count": 72,
   "metadata": {},
   "outputs": [
    {
     "data": {
      "text/plain": [
       "Index(['ENSG00000000003.13', 'ENSG00000000005.5', 'ENSG00000000419.11',\n",
       "       'ENSG00000000457.12', 'ENSG00000000460.15', 'ENSG00000000938.11',\n",
       "       'ENSG00000000971.14', 'ENSG00000001036.12', 'ENSG00000001084.9',\n",
       "       'ENSG00000001167.13',\n",
       "       ...\n",
       "       'ENSGR0000275287.3', 'ENSGR0000276543.3', 'ENSGR0000277120.3',\n",
       "       'ENSGR0000280767.1', 'ENSGR0000281849.1', '__no_feature', '__ambiguous',\n",
       "       '__too_low_aQual', '__not_aligned', '__alignment_not_unique'],\n",
       "      dtype='object', name=0, length=60488)"
      ]
     },
     "execution_count": 72,
     "metadata": {},
     "output_type": "execute_result"
    }
   ],
   "source": [
    "EnsRNA_data_frame_comm.index"
   ]
  },
  {
   "cell_type": "code",
   "execution_count": null,
   "metadata": {
    "collapsed": true
   },
   "outputs": [],
   "source": []
  },
  {
   "cell_type": "code",
   "execution_count": null,
   "metadata": {},
   "outputs": [],
   "source": []
  },
  {
   "cell_type": "code",
   "execution_count": 79,
   "metadata": {},
   "outputs": [],
   "source": [
    "fpkm_samples = gene_expression_data_frame.columns.tolist()\n",
    "mrna_samples = miRNA_data_frame.columns.tolist()\n",
    "\n"
   ]
  },
  {
   "cell_type": "code",
   "execution_count": 80,
   "metadata": {},
   "outputs": [],
   "source": [
    "common_samples = list(set.intersection(set(fpkm_samples), set(mrna_samples)))\n",
    "gene_expression_data_frame_comm = gene_expression_data_frame[common_samples]\n",
    "miRNA_data_frame_comm = miRNA_data_frame[common_samples]\n"
   ]
  },
  {
   "cell_type": "code",
   "execution_count": null,
   "metadata": {
    "collapsed": true
   },
   "outputs": [],
   "source": [
    "np.corrcoef(x=miRNA_data_frame_comm.loc[\"hsa-mir-192\",], y=gene_expression_data_frame_comm.ix[0,] )[0, 1]\n",
    "\n"
   ]
  },
  {
   "cell_type": "code",
   "execution_count": null,
   "metadata": {
    "collapsed": true
   },
   "outputs": [],
   "source": [
    "\n",
    "gene_expression_data_frame_comm_std = gene_expression_data_frame_comm.apply(axis=1, func=np.std)\n",
    "gene_expression_data_frame_comm_exc =  gene_expression_data_frame_comm_std[gene_expression_data_frame_comm_std > 10]\n",
    "gene_expression_data_frame_comm = gene_expression_data_frame_comm.loc[gene_expression_data_frame_comm_exc.index,]\n"
   ]
  },
  {
   "cell_type": "code",
   "execution_count": null,
   "metadata": {
    "collapsed": true
   },
   "outputs": [],
   "source": [
    "genes_list = gene_expression_data_frame.index\n",
    "mir192Corellation = pd.Series([])\n",
    "mir192pValue = pd.Series([])\n",
    "for gene in genes_list:\n",
    "    per_cor = pearsonr(miRNA_data_frame_comm.loc[\"hsa-mir-192\"].values, \n",
    "        gene_expression_data_frame_comm.loc[gene,].values)\n",
    "    \n",
    "    mir192Corellation[gene] = per_cor[0]\n",
    "    mir192pValue[gene] = per_cor[1]\n",
    "    \n",
    "    \n",
    "\n"
   ]
  },
  {
   "cell_type": "code",
   "execution_count": null,
   "metadata": {
    "collapsed": true
   },
   "outputs": [],
   "source": [
    "mir192CorellationDf = pd.DataFrame({\"cor\": mir192Corellation, \"p-Value\" : mir192pValue})\n",
    "mir192CorellationDf[\"cor_abs\"] = np.abs(mir192CorellationDf[\"cor\"])\n",
    "\n",
    "mir192CorellationDf_sig = mir192CorellationDf.loc[(mir192CorellationDf[\"p-Value\"] < 0.05) &\n",
    "                                                  (mir192CorellationDf[\"cor_abs\"] > 0.3),]\n"
   ]
  },
  {
   "cell_type": "code",
   "execution_count": null,
   "metadata": {
    "collapsed": true
   },
   "outputs": [],
   "source": [
    "mir192CorellationDf_sig = mir192CorellationDf.loc[(mir192CorellationDf[\"p-Value\"] < 0.05) &\n",
    "                                                  (mir192CorellationDf[\"cor_abs\"] > 0.3),]\n",
    "plt.plot(mir192CorellationDf_sig.sort_values(\"cor\")[\"cor\"].values, \"ko\")\n",
    "plt.show()\n",
    "\n"
   ]
  },
  {
   "cell_type": "code",
   "execution_count": null,
   "metadata": {
    "collapsed": true
   },
   "outputs": [],
   "source": [
    "\n",
    "\n",
    "mir192Corellation = mir192Corellation.fillna(0)\n",
    "\n"
   ]
  },
  {
   "cell_type": "code",
   "execution_count": null,
   "metadata": {
    "collapsed": true
   },
   "outputs": [],
   "source": [
    "\n",
    "\n",
    "mir192CorellationDf_sig = mir192CorellationDf.loc[(mir192CorellationDf[\"p-Value\"] < 0.05) &\n",
    "                                                  (mir192CorellationDf[\"cor_abs\"] > 0.4),]\n",
    "max_value = len(mir192CorellationDf_sig.sort_values(\"cor\")) * 2\n",
    "mir192CorellationDf_sig_sorted = mir192CorellationDf_sig.sort_values(\"cor\")\n",
    "plt.figure(figsize=(20,10))\n",
    "plt.bar(range(0, max_value, 2), mir192CorellationDf_sig_sorted[\"cor\"], width=0.5)\n",
    "plt.ylim([-1, 1])\n",
    "plt.xlim([0, max_value])\n",
    "plt.xticks(range(0, max_value, 2), list(mir192CorellationDf_sig.index.values), rotation='vertical')\n",
    "plt.show()\n",
    "\n"
   ]
  },
  {
   "cell_type": "code",
   "execution_count": null,
   "metadata": {
    "collapsed": true
   },
   "outputs": [],
   "source": [
    "\n",
    "\n",
    "\n",
    "mir192Corellation.to_csv(\"../TCGA_Data/nir192_cor.txt\", sep=\"\\t\")\n",
    "\n"
   ]
  },
  {
   "cell_type": "code",
   "execution_count": null,
   "metadata": {
    "collapsed": true
   },
   "outputs": [],
   "source": [
    "\n",
    "\n",
    "miRNA_data_frame_comm.head()\n",
    "\n"
   ]
  },
  {
   "cell_type": "code",
   "execution_count": null,
   "metadata": {
    "collapsed": true
   },
   "outputs": [],
   "source": [
    "\n",
    "\n",
    "gene_expression_data_frame_comm.head()\n",
    "\n"
   ]
  },
  {
   "cell_type": "code",
   "execution_count": null,
   "metadata": {
    "collapsed": true
   },
   "outputs": [],
   "source": [
    "\n",
    "\n",
    "plt.plot(np.log(miRNA_data_frame_comm.loc[\"hsa-mir-192\"].values), \n",
    "         np.log(gene_expression_data_frame_comm.loc[\"ENSG00000261572.1\"].values), 'ko')\n",
    "plt.show()\n",
    "\n"
   ]
  },
  {
   "cell_type": "code",
   "execution_count": null,
   "metadata": {
    "collapsed": true
   },
   "outputs": [],
   "source": [
    "\n",
    "\n",
    "plt.plot(np.log1p(miRNA_data_frame_comm.loc[\"hsa-mir-192\"].values), \n",
    "         np.log1p(miRNA_data_frame_comm.loc[\"hsa-mir-944\"].values), 'ko')\n",
    "plt.show()\n",
    "\n"
   ]
  },
  {
   "cell_type": "code",
   "execution_count": null,
   "metadata": {
    "collapsed": true
   },
   "outputs": [],
   "source": [
    "\n",
    "miRNA_data_frame_comm.index\n"
   ]
  },
  {
   "cell_type": "code",
   "execution_count": null,
   "metadata": {
    "collapsed": true
   },
   "outputs": [],
   "source": [
    "\n",
    "g = ggplot(miRNA_data_frame_comm.transpose(), aes(\"hsa-mir-192\", \"hsa-mir-98\")) + geom_point() + stat_smooth(colour='blue', span=0.2)\n",
    "print(g)\n",
    "\n"
   ]
  },
  {
   "cell_type": "code",
   "execution_count": null,
   "metadata": {
    "collapsed": true
   },
   "outputs": [],
   "source": []
  }
 ],
 "metadata": {
  "kernelspec": {
   "display_name": "Python 3 (ipykernel)",
   "language": "python",
   "name": "python3"
  },
  "language_info": {
   "codemirror_mode": {
    "name": "ipython",
    "version": 3
   },
   "file_extension": ".py",
   "mimetype": "text/x-python",
   "name": "python",
   "nbconvert_exporter": "python",
   "pygments_lexer": "ipython3",
   "version": "3.7.3"
  }
 },
 "nbformat": 4,
 "nbformat_minor": 2
}
